{
 "cells": [
  {
   "cell_type": "code",
   "execution_count": null,
   "metadata": {},
   "outputs": [
    {
     "ename": "",
     "evalue": "",
     "output_type": "error",
     "traceback": [
      "\u001b[1;31mRunning cells with 'c:\\Users\\bleymambwe\\AppData\\Local\\Programs\\Python\\Python311\\python.exe' requires the ipykernel package.\n",
      "\u001b[1;31mRun the following command to install 'ipykernel' into the Python environment. \n",
      "\u001b[1;31mCommand: 'c:/Users/bleymambwe/AppData/Local/Programs/Python/Python311/python.exe -m pip install ipykernel -U --user --force-reinstall'"
     ]
    }
   ],
   "source": [
    "import random\n",
    "from math import exp as e\n",
    "import numpy as np"
   ]
  },
  {
   "cell_type": "code",
   "execution_count": null,
   "metadata": {},
   "outputs": [
    {
     "ename": "",
     "evalue": "",
     "output_type": "error",
     "traceback": [
      "\u001b[1;31mRunning cells with 'c:\\Users\\bleymambwe\\AppData\\Local\\Programs\\Python\\Python311\\python.exe' requires the ipykernel package.\n",
      "\u001b[1;31mRun the following command to install 'ipykernel' into the Python environment. \n",
      "\u001b[1;31mCommand: 'c:/Users/bleymambwe/AppData/Local/Programs/Python/Python311/python.exe -m pip install ipykernel -U --user --force-reinstall'"
     ]
    }
   ],
   "source": [
    "class Node:\n",
    "    def __init__(self,data):\n",
    "        self.data = data\n",
    "        self.left = None\n",
    "        self.right= None\n",
    "        \n",
    "        self.Ajpos = None\n",
    "        \n",
    "        self.In    = None\n",
    "        self.type  = None\n",
    "            "
   ]
  },
  {
   "cell_type": "code",
   "execution_count": null,
   "metadata": {},
   "outputs": [
    {
     "ename": "",
     "evalue": "",
     "output_type": "error",
     "traceback": [
      "\u001b[1;31mRunning cells with 'c:\\Users\\bleymambwe\\AppData\\Local\\Programs\\Python\\Python311\\python.exe' requires the ipykernel package.\n",
      "\u001b[1;31mRun the following command to install 'ipykernel' into the Python environment. \n",
      "\u001b[1;31mCommand: 'c:/Users/bleymambwe/AppData/Local/Programs/Python/Python311/python.exe -m pip install ipykernel -U --user --force-reinstall'"
     ]
    }
   ],
   "source": [
    "class Sampler:\n",
    "    def __init__(self):\n",
    "        pass\n",
    "    \n",
    "    def sample(dict_):\n",
    "        return random.choice(list(d.keys()))\n",
    "    \n",
    "    def sampleNode(self):\n",
    "        choice =random.choice(self.nodes)\n",
    "        return choice\n",
    "    \n",
    "    def getLen(dict_):\n",
    "        return len(dict_)\n",
    "    \n",
    "    def getTree(tree):\n",
    "        return tree"
   ]
  },
  {
   "cell_type": "code",
   "execution_count": null,
   "metadata": {},
   "outputs": [
    {
     "ename": "",
     "evalue": "",
     "output_type": "error",
     "traceback": [
      "\u001b[1;31mRunning cells with 'c:\\Users\\bleymambwe\\AppData\\Local\\Programs\\Python\\Python311\\python.exe' requires the ipykernel package.\n",
      "\u001b[1;31mRun the following command to install 'ipykernel' into the Python environment. \n",
      "\u001b[1;31mCommand: 'c:/Users/bleymambwe/AppData/Local/Programs/Python/Python311/python.exe -m pip install ipykernel -U --user --force-reinstall'"
     ]
    }
   ],
   "source": [
    "class ObjectProperties:\n",
    "    def __init__(self):\n",
    "        self.no    = None\n",
    "        self.node_no= None\n",
    "        self.edge_no= None\n",
    "        self.v_no  = None\n",
    "        self.e_no  = None\n",
    "        \n",
    "    def getNode(self):\n",
    "        return Tree.root\n",
    "    \n",
    "    def addAttributes(self,node,type_):\n",
    "        self.increment_no(node)\n",
    "        self.addType(node,type_)\n",
    "        self.addtoList(node)\n",
    "        self.increment_node(node)\n",
    "        self.increment_edge(node)\n",
    "        \n",
    "    def increment_no(self,node):\n",
    "        if self.counter is None:\n",
    "            self.counter = 0\n",
    "            node.no = self.counter  \n",
    "        else:\n",
    "            self.counter += 1\n",
    "            node.no = self.counter\n",
    "                \n",
    "    def increment_node(self,node):\n",
    "        if node.type is 'Node' or node.type == 'Operator & Node':\n",
    "            #when starting to count\n",
    "            if self.node_counter is None :\n",
    "                self.node_counter = 0\n",
    "                node.node_no = self.node_counter\n",
    "            else:\n",
    "                self.node_counter += 1\n",
    "                node.node_no = self.node_counter\n",
    "        else:\n",
    "            pass\n",
    "        \n",
    "    def increment_edge(self,node):\n",
    "        if node.type is 'Edge':\n",
    "    \n",
    "            if self.edge_counter is None :\n",
    "                self.edge_counter = 0\n",
    "                node.edge_no = self.edge_counter\n",
    "        \n",
    "            else:\n",
    "                self.edge_counter += 1\n",
    "                node.edge_no = self.edge_counter\n",
    "        else:\n",
    "            pass\n",
    " \n",
    "    def addType(self,node,type_):\n",
    "        node.type = type_\n",
    "        \n",
    "    def addtoList(self,node):\n",
    "        if node.type is 'Operator':\n",
    "            self.operators.append(node)\n",
    "            \n",
    "        elif node.type is 'Edge':\n",
    "            self.edges.append(node)\n",
    "        elif node.type == 'Node' or node.type == 'Operator & Node':\n",
    "            self.nodes.append(node)\n",
    "        else:\n",
    "            assert not 'Invalid node type!'\n",
    "                "
   ]
  },
  {
   "cell_type": "code",
   "execution_count": null,
   "metadata": {},
   "outputs": [
    {
     "ename": "",
     "evalue": "",
     "output_type": "error",
     "traceback": [
      "\u001b[1;31mRunning cells with 'c:\\Users\\bleymambwe\\AppData\\Local\\Programs\\Python\\Python311\\python.exe' requires the ipykernel package.\n",
      "\u001b[1;31mRun the following command to install 'ipykernel' into the Python environment. \n",
      "\u001b[1;31mCommand: 'c:/Users/bleymambwe/AppData/Local/Programs/Python/Python311/python.exe -m pip install ipykernel -U --user --force-reinstall'"
     ]
    }
   ],
   "source": [
    "class GeneticOperators(Sampler,ObjectProperties):\n",
    "    def __init__(self):\n",
    "        pass\n",
    "    \n",
    "    def mutateEdge(self,node, getnewNode = False):\n",
    "        getNewNode = False\n",
    "        \n",
    "        parent = node.prev.prev\n",
    "        \n",
    "        subRoot = node.prev\n",
    "        \n",
    "        sigNode = Node('sig')\n",
    "        sigNode.prev =subRoot\n",
    "        self.addAttributes(sigNode,type_ = 'Operator & Node')\n",
    "        \n",
    "        #Connect edge to subRoot\n",
    "        edge =self.getEdge(node)\n",
    "        subRoot.right = edge\n",
    "        edge.prev = subRoot\n",
    "\n",
    "        #Create sub-subRoot\n",
    "        tempRoot= self.__subTree__(node)\n",
    "        \n",
    "        #Connect sigNode to sub-subRoot\n",
    "        sigNode.left = tempRoot\n",
    "        tempRoot.prev = sigNode\n",
    "        \n",
    "        #Connect sigNode to subRoot\n",
    "        subRoot.left = sigNode\n",
    "        \n",
    "        #Connect parent of node to subRoot\n",
    "        parent.right = subRoot\n",
    "        subRoot.prev = parent\n",
    "        \n",
    "        \n",
    "    def connectEdge(self,mainNode,secNode):\n",
    "        subRoot = mainNode.prev\n",
    "#       mainNode.prev = SubRoot\n",
    "        \n",
    "        tempRoot = Node('+')\n",
    "        self.addAttributes(tempRoot, type_ = 'Operator')\n",
    "        \n",
    "        #connecct tempRoot to the existing node \n",
    "        tempRoot.left = mainNode\n",
    "        #connect tempRoot to new node and edge\n",
    "        tempRoot.right = self.__subTree__(secNode)\n",
    "        \n",
    "        #connect subroot to temproot\n",
    "        subRoot.left = tempRoot\n",
    "    \n",
    "    #def mutate_and_connectEdge(self,mainNode,secNode): \n",
    "        "
   ]
  },
  {
   "cell_type": "code",
   "execution_count": null,
   "metadata": {},
   "outputs": [
    {
     "ename": "",
     "evalue": "",
     "output_type": "error",
     "traceback": [
      "\u001b[1;31mRunning cells with 'c:\\Users\\bleymambwe\\AppData\\Local\\Programs\\Python\\Python311\\python.exe' requires the ipykernel package.\n",
      "\u001b[1;31mRun the following command to install 'ipykernel' into the Python environment. \n",
      "\u001b[1;31mCommand: 'c:/Users/bleymambwe/AppData/Local/Programs/Python/Python311/python.exe -m pip install ipykernel -U --user --force-reinstall'"
     ]
    }
   ],
   "source": [
    "class Functions:\n",
    "    def __init__(self):\n",
    "        self.functions = {'sig':self.sigmoid, '+':self.plus,'.':self.dot}\n",
    "        \n",
    "    def sigmoid(self,x):\n",
    "        return 1/(1+e**(-x))\n",
    "    \n",
    "    def plus(self,x,y):\n",
    "        return x+y\n",
    "    \n",
    "    def dot(self,x,y):\n",
    "        return x*y"
   ]
  },
  {
   "cell_type": "code",
   "execution_count": null,
   "metadata": {},
   "outputs": [
    {
     "ename": "",
     "evalue": "",
     "output_type": "error",
     "traceback": [
      "\u001b[1;31mRunning cells with 'c:\\Users\\bleymambwe\\AppData\\Local\\Programs\\Python\\Python311\\python.exe' requires the ipykernel package.\n",
      "\u001b[1;31mRun the following command to install 'ipykernel' into the Python environment. \n",
      "\u001b[1;31mCommand: 'c:/Users/bleymambwe/AppData/Local/Programs/Python/Python311/python.exe -m pip install ipykernel -U --user --force-reinstall'"
     ]
    }
   ],
   "source": [
    "class SubTrees:\n",
    "    \"\"\" Contains helper methods for creating subtrees of a graph \"\"\"\n",
    "    def __init__(self):\n",
    "        pass\n",
    "    def subTree(self,data):\n",
    "        if type(data) is int:\n",
    "            \n",
    "            node= Node('.')\n",
    "            self.addAttributes(node,type_='Operator')\n",
    "\n",
    "            subRoot = node\n",
    "\n",
    "            #init edge\n",
    "            weight = random.uniform(0,1)\n",
    "\n",
    "            subRoot.left = Node(data)\n",
    "            self.addAttributes(subRoot.left, type_= 'Node')\n",
    "\n",
    "            subRoot.right= Node(weight)\n",
    "            self.addAttributes(subRoot.right, type_='Edge')\n",
    "\n",
    "            subRoot.left.prev = node\n",
    "            subRoot.right.prev= node\n",
    "            return subRoot\n",
    "    \n",
    "        else:\n",
    "            __subTree__(node = data)\n",
    "        \n",
    "    def __subTree__(self,node):\n",
    "        #create subtree\n",
    "        subRoot = Node('.')\n",
    "        self.addAttributes(subRoot, type_ ='Operator')\n",
    "        \n",
    "        #connect subroot to exisiting node\n",
    "        subRoot.left = node\n",
    "        node.prev = subRoot\n",
    "        \n",
    "        weight = random.uniform(0,1)\n",
    "        \n",
    "        #create edge\n",
    "        edge   = Node(weight)\n",
    "        #connect subroot to edge\n",
    "        subRoot.right= edge\n",
    "        edge.prev = subRoot\n",
    "        self.addAttributes(edge, type_ ='Edge')\n",
    "        \n",
    "        return subRoot\n",
    "        \n",
    "    def subTreewithOp(self,data):\n",
    "        #init Operator\n",
    "        node = Node('+')\n",
    "        self.addAttributes(node,type_ = 'Operator')\n",
    "        \n",
    "        #init Edge\n",
    "        weight = random.uniform(0,1)\n",
    "        subRoot = node\n",
    "\n",
    "        subRoot.right = self.subTree(data)\n",
    "        subRoot.right.prev = node\n",
    "        return subRoot\n",
    "    \n",
    "    def addSig(self):\n",
    "        node = Node('sig')\n",
    "        self.addAttributes(node, type_ = 'Operator')\n",
    "        \n",
    "        node.left = self.root\n",
    "        node.left.prev= node\n",
    "        self.root = node   \n",
    "        #vout = _ev_\n",
    "        #vout.left "
   ]
  },
  {
   "cell_type": "code",
   "execution_count": null,
   "metadata": {},
   "outputs": [
    {
     "ename": "",
     "evalue": "",
     "output_type": "error",
     "traceback": [
      "\u001b[1;31mRunning cells with 'c:\\Users\\bleymambwe\\AppData\\Local\\Programs\\Python\\Python311\\python.exe' requires the ipykernel package.\n",
      "\u001b[1;31mRun the following command to install 'ipykernel' into the Python environment. \n",
      "\u001b[1;31mCommand: 'c:/Users/bleymambwe/AppData/Local/Programs/Python/Python311/python.exe -m pip install ipykernel -U --user --force-reinstall'"
     ]
    }
   ],
   "source": [
    "class HelperMethods(SubTrees):\n",
    "    \"\"\" Contains helper methods for returning useful node information \"\"\"\n",
    "    def __init__(self):\n",
    "        pass\n",
    "    \n",
    "    def hasTwochildren(self,root):\n",
    "\n",
    "        if root.left is not None and root.right is not None:\n",
    "            left_of_root = root.left\n",
    "            right_of_root= root.right\n",
    "            \n",
    "            if (left_of_root.left is None and left_of_root.right is None \n",
    "            and right_of_root.left is None and right_of_root.right is None):\n",
    "                return True\n",
    "            else:\n",
    "                return False\n",
    "        else:\n",
    "            return False\n",
    "        \n",
    "    def getEdge(self,node):\n",
    "        #returns an edge given a node\n",
    "        return node.prev.right\n",
    "    \n",
    "    def getNode(self,node):\n",
    "        #returns a node given a node\n",
    "        return node.prev.left\n",
    "    \n",
    "    def getParent(self,node):\n",
    "        return node.prev.right\n",
    "    \n",
    "    def getNodefromParent(self,node):\n",
    "        #given a parent, an operator returns the coresponding node(s)\n",
    "        \n",
    "        if node.right is not None :\n",
    "            if node.left.data == '.':\n",
    "                left_node = node.left\n",
    "                right_node = node.right.left\n",
    "                return right_node,left_node\n",
    "            else:\n",
    "                return node.right.left\n",
    "     \n",
    "    def getEdgefromParent(self,node):\n",
    "        #given a parent, an operator('+') returns the coresponding edge(s)\n",
    "        \n",
    "        if node.right is not None and node.left is not None:\n",
    "            left_node = node.left.right\n",
    "            right_node = node.right.right\n",
    "            return right_edge,left_edge\n",
    "        \n",
    "        elif node.right is not None and node.left is None:\n",
    "            right_node = node.right.right\n",
    "            return right_node\n",
    "        elif node.left is not None and node.right is None:\n",
    "            left_node = node.left.right\n",
    "            return left_edge\n",
    "    \n",
    "    def getNeighbours(self,node, type_ = 'Node'):\n",
    "        Neighbours = []\n",
    "        cur = node\n",
    "        while cur:\n",
    "            if cur.type is 'Operator' and cur.data is '+':\n",
    "                if type_ == 'Node':\n",
    "                    data = self.getNodefromParent(cur)\n",
    "                    if type(data) != tuple:\n",
    "                        Neighbours.append(data)\n",
    "                        \n",
    "                    elif type(data) == tuple:\n",
    "            \n",
    "                        Neighbours.append(data[0])\n",
    "                        Neighbours.append(data[1])\n",
    "                    else:\n",
    "                        assert not '..something went wrong!, check getNodefromParent method'\n",
    "                    \n",
    "                elif type_ == 'Edge':\n",
    "                    self.getEdgefromparent(cur)\n",
    "                    Neighbours.append(self.getNodefromParent(cur))\n",
    "                else:\n",
    "                    assert not 'type not understood'\n",
    "                    \n",
    "            cur = cur.left     \n",
    "                    \n",
    "        return Neighbours                "
   ]
  },
  {
   "cell_type": "code",
   "execution_count": null,
   "metadata": {},
   "outputs": [
    {
     "ename": "",
     "evalue": "",
     "output_type": "error",
     "traceback": [
      "\u001b[1;31mRunning cells with 'c:\\Users\\bleymambwe\\AppData\\Local\\Programs\\Python\\Python311\\python.exe' requires the ipykernel package.\n",
      "\u001b[1;31mRun the following command to install 'ipykernel' into the Python environment. \n",
      "\u001b[1;31mCommand: 'c:/Users/bleymambwe/AppData/Local/Programs/Python/Python311/python.exe -m pip install ipykernel -U --user --force-reinstall'"
     ]
    }
   ],
   "source": [
    "class Tree(Functions,HelperMethods,GeneticOperators):\n",
    "    def __init__(self,x= None):\n",
    "        super().__init__()\n",
    "        self.x = x\n",
    "        self.prev = None\n",
    "        self.root = None\n",
    "        \n",
    "        self.Aj = None\n",
    "        self.Tr = None\n",
    "        self.Im  = None\n",
    "        self.In  = None\n",
    "        \n",
    "        self.counter=None\n",
    "        self.edge_counter= None\n",
    "        self.node_counter= None\n",
    "        \n",
    "        self.nodes = []\n",
    "        self.edges = []\n",
    "        self.operators=[]\n",
    "        \n",
    "        self.list = []\n",
    "        self.lst_ = []\n",
    "        \n",
    "   # def getNeighbours(self,node)\n",
    "    \n",
    "    def getNeighbour(self,node):\n",
    "        if node.type is 'Edge':\n",
    "            self.backwardSearch(node,type_ ='Edge')\n",
    "            print('Warning, you inserted an Edge rather than a node')\n",
    "        elif node.type is 'Node':\n",
    "            self.backwardSearch(node,type_ ='Node')\n",
    "        else:\n",
    "            assert not 'Invalid Operation!'\n",
    "            \n",
    "    def NodeNeighbour(self,node):\n",
    "        #returns a neighbouring node\n",
    "        tempNode = self.backwardTraverse(node,type_ = 'Node')\n",
    "        return tempNode\n",
    "    \n",
    "    def backwardSearch(self,node,type_):\n",
    "        cur = node\n",
    "        while cur:\n",
    "            #print(cur.data)\n",
    "            cur =cur.prev\n",
    "            \n",
    "            if cur.type is type_:\n",
    "                print('Node found')\n",
    "                return cur\n",
    "        \n",
    "            if cur is self.root:\n",
    "                print('Node is output')\n",
    "                return cur\n",
    "                #break\n",
    "    \n",
    "    def evaluate(self):\n",
    "        return self.__eval__(root= self.root)\n",
    "    \n",
    "    def __eval__(self,root):\n",
    "        if root is not None:\n",
    "            self.__eval__(root.left)\n",
    "            self.__operate__(root.data,root)\n",
    "            self.__eval__(root.right)\n",
    "        return self.list\n",
    "    \n",
    "    def __operate__(self,data,root):\n",
    "        if data is not '+':\n",
    "            self.list.append(data)\n",
    "        else:\n",
    "            self.list.append(data)\n",
    "            self._eval_(self.root.right)\n",
    "        \n",
    "        if len(self.list) == 3:\n",
    "            print(self.list)\n",
    "            tempVal = self.functions[self.list[1]](self.list[0],self.list[2])\n",
    "            self.list.clear()\n",
    "            return self.list.append(tempVal)\n",
    "        \n",
    "    def createTree(self):\n",
    "        for i in range(len(self.x)):\n",
    "            self.addItems(self.x[i])\n",
    "        return\n",
    "    \n",
    "    def addItems(self,data):\n",
    "        if self.root is None:\n",
    "            self.root = self.subTree(data)\n",
    "\n",
    "        else :\n",
    "            node = self.subTreewithOp(data)\n",
    "            node.left = self.root\n",
    "            node.left.prev = node\n",
    "            self.root = node\n",
    "\n",
    "#             self.addtoAJ(node)\n",
    "#             self.addtoTr(node)\n",
    "\n",
    "                \n",
    "    def find(self,item):\n",
    "        return self.__find__(self.root,item)\n",
    "    \n",
    "    def __find__(self,root,item):\n",
    "        if root is not None and root is not item :\n",
    "            if root.data is item:\n",
    "                self.found_item = root\n",
    "                return root\n",
    "            else:\n",
    "                self.__find__(root.left,item)\n",
    "                self.__find__(root.right,item)\n",
    "                \n",
    "    def traverse(self):\n",
    "        return self.__traverse__(self.root)\n",
    "    \n",
    "    def __traverse__(self,root):\n",
    "        if root is not None:\n",
    "            self.__traverse__(root.left)\n",
    "            print(root.data)\n",
    "            self.__traverse__(root.right)\n",
    "            \n",
    "    def _ev_(self,root):\n",
    "        if root is not None:\n",
    "            if len(self.lst_) <3:\n",
    "                self._ev_(root.left)\n",
    "                if root.data is not '+':\n",
    "                    self.lst_.append(root.data)\n",
    "                else:\n",
    "                    self.append()\n",
    "                    self._ev_(root.right)\n",
    "                    \n",
    "                self._ev_(root.right)\n",
    "                \n",
    "            elif len(self.lst_) is 3:\n",
    "                    tempV = self.functions[self.lst_[1]](self.lst_[0],self.lst_[2])\n",
    "                    self.lst_.clear()\n",
    "                    self.lst_.append(tempV)\n",
    "                      \n",
    "    def search(self,root):\n",
    "        if root is not None:\n",
    "            self.search(root.left)\n",
    "            self._ev_(root)\n",
    "            self.search(root.right)\n",
    "            \n",
    "    def checkforOperation(self,root):\n",
    "        if root.data in self.functions and self.hasTwochildren(root) == True: \n",
    "            tempNode = Node(self.functions[root.data](root.left.data,root.right.data))\n",
    "            root.prev.next = tempNode\n",
    "            root = tempNode\n",
    "            print(root.data)\n",
    "        else:\n",
    "            pass\n",
    "    \n",
    "    def cal(self):\n",
    "        #self.addSig()\n",
    "        self.temporaryRoot =  self.root\n",
    "        return self.__cal__(root = self.temporaryRoot)\n",
    "    \n",
    "    def __cal__(self,root):\n",
    "        if root is not None:\n",
    "            self.__cal__(root.left)\n",
    "            self.__cal__(root.right)\n",
    "            self.checkforOperation(root)\n",
    "            return root\n",
    "    \n",
    "    def postOrderTraversal(self):\n",
    "        return self.__postOrderTraversal__(self.root)\n",
    "    def __postOrderTraversal__(self,root):\n",
    "        if root is not None:\n",
    "            self.__postOrderTraversal__(root.left)\n",
    "            self.__postOrderTraversal__(root.right)\n",
    "            print(root.data)\n",
    "            \n",
    "    def postOrderStack(self):\n",
    "        cur= self.root\n",
    "        stack= []\n",
    "        while stack or cur:\n",
    "            if cur is not None:\n",
    "                stack.append(cur)\n",
    "                cur = cur.left\n",
    "            else:\n",
    "                cur = stack.pop()\n",
    "                \n",
    "                print(cur.data)\n",
    "                cur = cur.right\n",
    "            \n",
    "    def inorderStack(self):\n",
    "        #traverse using stacks\n",
    "        stack = []\n",
    "        cur = self.root\n",
    "        \n",
    "        while stack or cur:\n",
    "            if cur is not None:\n",
    "                stack.append(cur)\n",
    "                cur = cur.left\n",
    "                \n",
    "            else:\n",
    "                cur = stack.pop()\n",
    "                print(cur.data)\n",
    "                cur = cur.right"
   ]
  },
  {
   "cell_type": "code",
   "execution_count": null,
   "metadata": {},
   "outputs": [
    {
     "ename": "",
     "evalue": "",
     "output_type": "error",
     "traceback": [
      "\u001b[1;31mRunning cells with 'c:\\Users\\bleymambwe\\AppData\\Local\\Programs\\Python\\Python311\\python.exe' requires the ipykernel package.\n",
      "\u001b[1;31mRun the following command to install 'ipykernel' into the Python environment. \n",
      "\u001b[1;31mCommand: 'c:/Users/bleymambwe/AppData/Local/Programs/Python/Python311/python.exe -m pip install ipykernel -U --user --force-reinstall'"
     ]
    }
   ],
   "source": [
    "x = [5,6,7]\n",
    "g= Tree(x)\n",
    "g.createTree()"
   ]
  },
  {
   "cell_type": "code",
   "execution_count": null,
   "metadata": {},
   "outputs": [
    {
     "ename": "",
     "evalue": "",
     "output_type": "error",
     "traceback": [
      "\u001b[1;31mRunning cells with 'c:\\Users\\bleymambwe\\AppData\\Local\\Programs\\Python\\Python311\\python.exe' requires the ipykernel package.\n",
      "\u001b[1;31mRun the following command to install 'ipykernel' into the Python environment. \n",
      "\u001b[1;31mCommand: 'c:/Users/bleymambwe/AppData/Local/Programs/Python/Python311/python.exe -m pip install ipykernel -U --user --force-reinstall'"
     ]
    }
   ],
   "source": [
    "for i in f:\n",
    "    print(i.data)"
   ]
  },
  {
   "cell_type": "code",
   "execution_count": null,
   "metadata": {},
   "outputs": [
    {
     "ename": "",
     "evalue": "",
     "output_type": "error",
     "traceback": [
      "\u001b[1;31mRunning cells with 'c:\\Users\\bleymambwe\\AppData\\Local\\Programs\\Python\\Python311\\python.exe' requires the ipykernel package.\n",
      "\u001b[1;31mRun the following command to install 'ipykernel' into the Python environment. \n",
      "\u001b[1;31mCommand: 'c:/Users/bleymambwe/AppData/Local/Programs/Python/Python311/python.exe -m pip install ipykernel -U --user --force-reinstall'"
     ]
    }
   ],
   "source": [
    "f =g.getNeighbours(g.root)"
   ]
  },
  {
   "cell_type": "code",
   "execution_count": null,
   "metadata": {},
   "outputs": [
    {
     "ename": "",
     "evalue": "",
     "output_type": "error",
     "traceback": [
      "\u001b[1;31mRunning cells with 'c:\\Users\\bleymambwe\\AppData\\Local\\Programs\\Python\\Python311\\python.exe' requires the ipykernel package.\n",
      "\u001b[1;31mRun the following command to install 'ipykernel' into the Python environment. \n",
      "\u001b[1;31mCommand: 'c:/Users/bleymambwe/AppData/Local/Programs/Python/Python311/python.exe -m pip install ipykernel -U --user --force-reinstall'"
     ]
    }
   ],
   "source": [
    "g.traverse()\n",
    "#g.counter,g.node_counter,g.edge_counter"
   ]
  },
  {
   "cell_type": "code",
   "execution_count": null,
   "metadata": {
    "scrolled": true
   },
   "outputs": [
    {
     "ename": "",
     "evalue": "",
     "output_type": "error",
     "traceback": [
      "\u001b[1;31mRunning cells with 'c:\\Users\\bleymambwe\\AppData\\Local\\Programs\\Python\\Python311\\python.exe' requires the ipykernel package.\n",
      "\u001b[1;31mRun the following command to install 'ipykernel' into the Python environment. \n",
      "\u001b[1;31mCommand: 'c:/Users/bleymambwe/AppData/Local/Programs/Python/Python311/python.exe -m pip install ipykernel -U --user --force-reinstall'"
     ]
    }
   ],
   "source": [
    "#g.nodes\n",
    "gg = g.sampleNode()"
   ]
  },
  {
   "cell_type": "code",
   "execution_count": null,
   "metadata": {},
   "outputs": [
    {
     "ename": "",
     "evalue": "",
     "output_type": "error",
     "traceback": [
      "\u001b[1;31mRunning cells with 'c:\\Users\\bleymambwe\\AppData\\Local\\Programs\\Python\\Python311\\python.exe' requires the ipykernel package.\n",
      "\u001b[1;31mRun the following command to install 'ipykernel' into the Python environment. \n",
      "\u001b[1;31mCommand: 'c:/Users/bleymambwe/AppData/Local/Programs/Python/Python311/python.exe -m pip install ipykernel -U --user --force-reinstall'"
     ]
    }
   ],
   "source": []
  },
  {
   "cell_type": "code",
   "execution_count": null,
   "metadata": {},
   "outputs": [
    {
     "ename": "",
     "evalue": "",
     "output_type": "error",
     "traceback": [
      "\u001b[1;31mRunning cells with 'c:\\Users\\bleymambwe\\AppData\\Local\\Programs\\Python\\Python311\\python.exe' requires the ipykernel package.\n",
      "\u001b[1;31mRun the following command to install 'ipykernel' into the Python environment. \n",
      "\u001b[1;31mCommand: 'c:/Users/bleymambwe/AppData/Local/Programs/Python/Python311/python.exe -m pip install ipykernel -U --user --force-reinstall'"
     ]
    }
   ],
   "source": [
    "g.mutateEdge(gg)"
   ]
  },
  {
   "cell_type": "code",
   "execution_count": null,
   "metadata": {
    "scrolled": true
   },
   "outputs": [
    {
     "ename": "",
     "evalue": "",
     "output_type": "error",
     "traceback": [
      "\u001b[1;31mRunning cells with 'c:\\Users\\bleymambwe\\AppData\\Local\\Programs\\Python\\Python311\\python.exe' requires the ipykernel package.\n",
      "\u001b[1;31mRun the following command to install 'ipykernel' into the Python environment. \n",
      "\u001b[1;31mCommand: 'c:/Users/bleymambwe/AppData/Local/Programs/Python/Python311/python.exe -m pip install ipykernel -U --user --force-reinstall'"
     ]
    }
   ],
   "source": [
    "g.traverse()"
   ]
  },
  {
   "cell_type": "code",
   "execution_count": null,
   "metadata": {},
   "outputs": [
    {
     "ename": "",
     "evalue": "",
     "output_type": "error",
     "traceback": [
      "\u001b[1;31mRunning cells with 'c:\\Users\\bleymambwe\\AppData\\Local\\Programs\\Python\\Python311\\python.exe' requires the ipykernel package.\n",
      "\u001b[1;31mRun the following command to install 'ipykernel' into the Python environment. \n",
      "\u001b[1;31mCommand: 'c:/Users/bleymambwe/AppData/Local/Programs/Python/Python311/python.exe -m pip install ipykernel -U --user --force-reinstall'"
     ]
    }
   ],
   "source": [
    "secNode = g.nodes[0]"
   ]
  },
  {
   "cell_type": "code",
   "execution_count": null,
   "metadata": {},
   "outputs": [
    {
     "ename": "",
     "evalue": "",
     "output_type": "error",
     "traceback": [
      "\u001b[1;31mRunning cells with 'c:\\Users\\bleymambwe\\AppData\\Local\\Programs\\Python\\Python311\\python.exe' requires the ipykernel package.\n",
      "\u001b[1;31mRun the following command to install 'ipykernel' into the Python environment. \n",
      "\u001b[1;31mCommand: 'c:/Users/bleymambwe/AppData/Local/Programs/Python/Python311/python.exe -m pip install ipykernel -U --user --force-reinstall'"
     ]
    }
   ],
   "source": [
    "mainNode = g.nodes[-1]"
   ]
  },
  {
   "cell_type": "code",
   "execution_count": null,
   "metadata": {},
   "outputs": [
    {
     "ename": "",
     "evalue": "",
     "output_type": "error",
     "traceback": [
      "\u001b[1;31mRunning cells with 'c:\\Users\\bleymambwe\\AppData\\Local\\Programs\\Python\\Python311\\python.exe' requires the ipykernel package.\n",
      "\u001b[1;31mRun the following command to install 'ipykernel' into the Python environment. \n",
      "\u001b[1;31mCommand: 'c:/Users/bleymambwe/AppData/Local/Programs/Python/Python311/python.exe -m pip install ipykernel -U --user --force-reinstall'"
     ]
    }
   ],
   "source": [
    "g.connectEdge(mainNode,secNode)"
   ]
  },
  {
   "cell_type": "code",
   "execution_count": null,
   "metadata": {},
   "outputs": [
    {
     "ename": "",
     "evalue": "",
     "output_type": "error",
     "traceback": [
      "\u001b[1;31mRunning cells with 'c:\\Users\\bleymambwe\\AppData\\Local\\Programs\\Python\\Python311\\python.exe' requires the ipykernel package.\n",
      "\u001b[1;31mRun the following command to install 'ipykernel' into the Python environment. \n",
      "\u001b[1;31mCommand: 'c:/Users/bleymambwe/AppData/Local/Programs/Python/Python311/python.exe -m pip install ipykernel -U --user --force-reinstall'"
     ]
    }
   ],
   "source": [
    "g.traverse()"
   ]
  },
  {
   "cell_type": "code",
   "execution_count": null,
   "metadata": {},
   "outputs": [
    {
     "ename": "",
     "evalue": "",
     "output_type": "error",
     "traceback": [
      "\u001b[1;31mRunning cells with 'c:\\Users\\bleymambwe\\AppData\\Local\\Programs\\Python\\Python311\\python.exe' requires the ipykernel package.\n",
      "\u001b[1;31mRun the following command to install 'ipykernel' into the Python environment. \n",
      "\u001b[1;31mCommand: 'c:/Users/bleymambwe/AppData/Local/Programs/Python/Python311/python.exe -m pip install ipykernel -U --user --force-reinstall'"
     ]
    }
   ],
   "source": []
  }
 ],
 "metadata": {
  "kernelspec": {
   "display_name": "Python 3",
   "language": "python",
   "name": "python3"
  },
  "language_info": {
   "codemirror_mode": {
    "name": "ipython",
    "version": 3
   },
   "file_extension": ".py",
   "mimetype": "text/x-python",
   "name": "python",
   "nbconvert_exporter": "python",
   "pygments_lexer": "ipython3",
   "version": "3.11.5"
  }
 },
 "nbformat": 4,
 "nbformat_minor": 2
}
